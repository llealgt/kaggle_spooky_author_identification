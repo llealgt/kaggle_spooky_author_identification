{
 "cells": [
  {
   "cell_type": "markdown",
   "metadata": {},
   "source": [
    "# Spooky author identification\n",
    "\n"
   ]
  },
  {
   "cell_type": "markdown",
   "metadata": {},
   "source": [
    "##### End to end deep learning with LSTM approach: no feature engineering ,just lots of data and lots of hidden layers.\n",
    "\n",
    "Additional to original Kaggle dataset, i also use external data i've compiled in another of my AI projects(a generative model that learns to generate new text combining lovecraft and Poe styles):\n",
    "https://github.com/llealgt/edgar_philip_love_poe"
   ]
  },
  {
   "cell_type": "code",
   "execution_count": 1,
   "metadata": {
    "collapsed": true
   },
   "outputs": [],
   "source": [
    "import numpy as np\n",
    "import tensorflow as tf\n",
    "import csv\n",
    "from sklearn import preprocessing\n",
    "from string import punctuation\n",
    "from sklearn import metrics\n",
    "import matplotlib.pyplot as plt\n",
    "import random"
   ]
  },
  {
   "cell_type": "code",
   "execution_count": 2,
   "metadata": {
    "collapsed": true
   },
   "outputs": [],
   "source": [
    "reviews = []\n",
    "labels = []\n",
    "test = []\n",
    "test_ids = []\n",
    "external_authors = []\n",
    "external_lines = []\n",
    "with open('./text.csv', 'r',encoding=\"latin-1\") as f:\n",
    "    text_reader = csv.reader(f,delimiter=\",\")\n",
    "    next(text_reader)\n",
    "    for row in text_reader:\n",
    "        reviews.append(row[0])\n",
    "with open('./author.csv', 'r') as labels_csv:\n",
    "    author_reader = csv.reader(labels_csv,delimiter =\",\")\n",
    "    next(author_reader) #ignore header\n",
    "    for row in author_reader:\n",
    "        labels.append(row[0])\n",
    "with open(\"./test.csv\",'r') as test_csv:\n",
    "    text_reader = csv.reader(test_csv, delimiter= \",\")\n",
    "    next(text_reader) #ignore header\n",
    "    \n",
    "    for row in text_reader:\n",
    "        test_ids.append(row[0])\n",
    "        test.append(row[1])\n",
    "        \n",
    "with open(\"./newData.csv\",'r') as external_data:\n",
    "    text_reader = csv.reader(external_data,delimiter=\",\")\n",
    "    \n",
    "    for row in text_reader:\n",
    "        line = row[1].strip()\n",
    "        \n",
    "        if len(line.split() )> 5: #if the line has at least 5 words, keep it\n",
    "            external_authors.append(row[0].strip())\n",
    "            external_lines.append(line)"
   ]
  },
  {
   "cell_type": "code",
   "execution_count": 3,
   "metadata": {},
   "outputs": [
    {
     "data": {
      "text/plain": [
       "19579"
      ]
     },
     "execution_count": 3,
     "metadata": {},
     "output_type": "execute_result"
    }
   ],
   "source": [
    "len(reviews)"
   ]
  },
  {
   "cell_type": "code",
   "execution_count": 4,
   "metadata": {},
   "outputs": [
    {
     "data": {
      "text/plain": [
       "8392"
      ]
     },
     "execution_count": 4,
     "metadata": {},
     "output_type": "execute_result"
    }
   ],
   "source": [
    "len(test)"
   ]
  },
  {
   "cell_type": "code",
   "execution_count": 5,
   "metadata": {},
   "outputs": [
    {
     "data": {
      "text/plain": [
       "54058"
      ]
     },
     "execution_count": 5,
     "metadata": {},
     "output_type": "execute_result"
    }
   ],
   "source": [
    "len(external_authors)"
   ]
  },
  {
   "cell_type": "code",
   "execution_count": 6,
   "metadata": {},
   "outputs": [
    {
     "data": {
      "text/plain": [
       "['This process, however, afforded me no means of ascertaining the dimensions of my dungeon; as I might make its circuit, and return to the point whence I set out, without being aware of the fact; so perfectly uniform seemed the wall.',\n",
       " 'It never once occurred to me that the fumbling might be a mere mistake.',\n",
       " 'In his left hand was a gold snuff box, from which, as he capered down the hill, cutting all manner of fantastic steps, he took snuff incessantly with an air of the greatest possible self satisfaction.',\n",
       " 'How lovely is spring As we looked from Windsor Terrace on the sixteen fertile counties spread beneath, speckled by happy cottages and wealthier towns, all looked as in former years, heart cheering and fair.',\n",
       " 'Finding nothing else, not even gold, the Superintendent abandoned his attempts; but a perplexed look occasionally steals over his countenance as he sits thinking at his desk.',\n",
       " 'A youth passed in solitude, my best years spent under your gentle and feminine fosterage, has so refined the groundwork of my character that I cannot overcome an intense distaste to the usual brutality exercised on board ship: I have never believed it to be necessary, and when I heard of a mariner equally noted for his kindliness of heart and the respect and obedience paid to him by his crew, I felt myself peculiarly fortunate in being able to secure his services.',\n",
       " 'The astronomer, perhaps, at this point, took refuge in the suggestion of non luminosity; and here analogy was suddenly let fall.',\n",
       " 'The surcingle hung in ribands from my body.',\n",
       " \"I knew that you could not say to yourself 'stereotomy' without being brought to think of atomies, and thus of the theories of Epicurus; and since, when we discussed this subject not very long ago, I mentioned to you how singularly, yet with how little notice, the vague guesses of that noble Greek had met with confirmation in the late nebular cosmogony, I felt that you could not avoid casting your eyes upward to the great nebula in Orion, and I certainly expected that you would do so.\",\n",
       " 'I confess that neither the structure of languages, nor the code of governments, nor the politics of various states possessed attractions for me.',\n",
       " 'He shall find that I can feel my injuries; he shall learn to dread my revenge\" A few days after he arrived.',\n",
       " 'Here we barricaded ourselves, and, for the present were secure.',\n",
       " 'Herbert West needed fresh bodies because his life work was the reanimation of the dead.',\n",
       " 'The farm like grounds extended back very deeply up the hill, almost to Wheaton Street.',\n",
       " 'But a glance will show the fallacy of this idea.',\n",
       " 'He had escaped me, and I must commence a destructive and almost endless journey across the mountainous ices of the ocean, amidst cold that few of the inhabitants could long endure and which I, the native of a genial and sunny climate, could not hope to survive.',\n",
       " 'To these speeches they gave, of course, their own interpretation; fancying, no doubt, that at all events I should come into possession of vast quantities of ready money; and provided I paid them all I owed, and a trifle more, in consideration of their services, I dare say they cared very little what became of either my soul or my carcass.',\n",
       " 'Her native sprightliness needed no undue excitement, and her placid heart reposed contented on my love, the well being of her children, and the beauty of surrounding nature.',\n",
       " 'I even went so far as to speak of a slightly hectic cough with which, at one time, I had been troubled of a chronic rheumatism of a twinge of hereditary gout and, in conclusion, of the disagreeable and inconvenient, but hitherto carefully concealed, weakness of my eyes.',\n",
       " \"His facial aspect, too, was remarkable for its maturity; for though he shared his mother's and grandfather's chinlessness, his firm and precociously shaped nose united with the expression of his large, dark, almost Latin eyes to give him an air of quasi adulthood and well nigh preternatural intelligence.\"]"
      ]
     },
     "execution_count": 6,
     "metadata": {},
     "output_type": "execute_result"
    }
   ],
   "source": [
    "reviews[:20]"
   ]
  },
  {
   "cell_type": "code",
   "execution_count": 7,
   "metadata": {},
   "outputs": [
    {
     "data": {
      "text/plain": [
       "['EAP',\n",
       " 'HPL',\n",
       " 'EAP',\n",
       " 'MWS',\n",
       " 'HPL',\n",
       " 'MWS',\n",
       " 'EAP',\n",
       " 'EAP',\n",
       " 'EAP',\n",
       " 'MWS',\n",
       " 'MWS',\n",
       " 'EAP',\n",
       " 'HPL',\n",
       " 'HPL',\n",
       " 'EAP',\n",
       " 'MWS',\n",
       " 'EAP',\n",
       " 'MWS',\n",
       " 'EAP',\n",
       " 'HPL']"
      ]
     },
     "execution_count": 7,
     "metadata": {},
     "output_type": "execute_result"
    }
   ],
   "source": [
    "labels[:20]"
   ]
  },
  {
   "cell_type": "code",
   "execution_count": 8,
   "metadata": {},
   "outputs": [
    {
     "data": {
      "text/plain": [
       "['Still, as I urged our leaving Ireland with such inquietude and impatience, my father thought it best to yield.',\n",
       " 'If a fire wanted fanning, it could readily be fanned with a newspaper, and as the government grew weaker, I have no doubt that leather and iron acquired durability in proportion, for, in a very short time, there was not a pair of bellows in all Rotterdam that ever stood in need of a stitch or required the assistance of a hammer.',\n",
       " 'And when they had broken down the frail door they found only this: two cleanly picked human skeletons on the earthen floor, and a number of singular beetles crawling in the shadowy corners.',\n",
       " 'While I was thinking how I should possibly manage without them, one actually tumbled out of my head, and, rolling down the steep side of the steeple, lodged in the rain gutter which ran along the eaves of the main building.',\n",
       " 'I am not sure to what limit his knowledge may extend.',\n",
       " '\"The thick and peculiar mist, or smoke, which distinguishes the Indian Summer, and which now hung heavily over all objects, served, no doubt, to deepen the vague impressions which these objects created.',\n",
       " 'That which is not matter, is not at all unless qualities are things.',\n",
       " 'I sought for repose although I did not hope for forgetfulness; I knew I should be pursued by dreams, but did not dread the frightful one that I really had.',\n",
       " 'Upon the fourth day of the assassination, a party of the police came, very unexpectedly, into the house, and proceeded again to make rigorous investigation of the premises.',\n",
       " '\"The tone metaphysical is also a good one.',\n",
       " 'These, the offspring of a later period, stood erect and seemed ready to advance fearlessly into coming time; while those out worn stragglers, blasted and broke, clung to each other, their weak boughs sighing as the wind buffetted them a weather beaten crew.',\n",
       " 'What kept him from going with her and Brown Jenkin and the other to the throne of Chaos where the thin flutes pipe mindlessly was the fact that he had seen the name \"Azathoth\" in the Necronomicon, and knew it stood for a primal evil too horrible for description.',\n",
       " 'Persuading the widow that my connexion with her husband\\'s \"technical matters\" was sufficient to entitle me to his manuscript, I bore the document away and began to read it on the London boat.',\n",
       " 'When I arose trembling, I know not how much later, I staggered into the house and made shocking obeisances before the enshrined amulet of green jade.',\n",
       " 'And by the shores of the river Zaire there is neither quiet nor silence.',\n",
       " \"Idris heard of her mother's return with pleasure.\",\n",
       " 'I say this proudly, but with tears in my eyes for the firm proved themselves the basest of ingrates.',\n",
       " 'But let us glance at the treatise Ah \"Ability or inability to conceive,\" says Mr. Mill, very properly, \"is in no case to be received as a criterion of axiomatic truth.\"',\n",
       " '\"What a place is this that you inhabit, my son\" said he, looking mournfully at the barred windows and wretched appearance of the room.',\n",
       " 'At his nod I took one of the latter and seated myself upon an aged, discoloured gravestone close by the newly uncovered aperture.']"
      ]
     },
     "execution_count": 8,
     "metadata": {},
     "output_type": "execute_result"
    }
   ],
   "source": [
    "test[:20]"
   ]
  },
  {
   "cell_type": "code",
   "execution_count": 9,
   "metadata": {},
   "outputs": [
    {
     "data": {
      "text/plain": [
       "['AT THE MOUNTAINS OF MADNESS  I.  I am forced into speech because men of science have refused to follow my advice without knowing why.',\n",
       " 'It is altogether against my will that I tell my reasons for opposing this contemplated invasion of the antarctic—with its vast fossil-hunt and its wholesale boring and melting of the ancient ice-cap—and I am the more reluctant because my warning may be in vain.',\n",
       " 'Doubt of the real facts, as I must reveal them, is inevitable; yet if I suppressed what will seem extravagant and incredible there would be nothing left.',\n",
       " 'The hitherto withheld photographs, both ordinary and aërial, will count in my favour; for they are damnably vivid and graphic.',\n",
       " 'Still, they will be doubted because of the great lengths to which clever fakery can be carried.',\n",
       " 'The ink drawings, of course, will be jeered at as obvious impostures; notwithstanding a strangeness of technique which art experts ought to remark and puzzle over.',\n",
       " 'In the end I must rely on the judgment and standing of the few scientific leaders who have, on the one hand, sufficient independence of thought to weigh my data on its own hideously convincing merits or in the light of certain primordial and highly baffling myth-cycles; and on the other hand, sufficient influence to deter the exploring world in general from any rash and overambitious programme in the region of those mountains of madness.',\n",
       " 'It is an unfortunate fact that relatively obscure men like myself and my associates, connected only with a small university, have little chance of making an impression where matters of a wildly bizarre or highly controversial nature are concerned.',\n",
       " 'It is further against us that we are not, in the strictest sense, specialists in the fields which came primarily to be concerned.',\n",
       " 'As a geologist my object in leading the Miskatonic University Expedition was wholly that of securing deep-level specimens of rock and soil from various parts of the antarctic continent, aided by the remarkable drill devised by Prof. Frank H. Pabodie of our engineering department.',\n",
       " 'I had no wish to be a pioneer in any other field than this; but I did hope that the use of this new mechanical appliance at different points along previously explored paths would bring to light materials of a sort hitherto unreached by the ordinary methods of collection.',\n",
       " 'Pabodie’s drilling apparatus, as the public already knows from our reports, was unique and radical in its lightness, portability, and capacity to combine the ordinary artesian drill principle with the principle of the small circular rock drill in such a way as to cope quickly with strata of varying hardness.',\n",
       " 'Steel head, jointed rods, gasoline motor, collapsible wooden derrick, dynamiting paraphernalia, cording, rubbish-removal auger, and sectional piping for bores five inches wide and up to 1000 feet deep all formed, with needed accessories, no greater load than three seven-dog sledges could carry; this being made possible by the clever aluminum alloy of which most of the metal objects were fashioned.',\n",
       " 'Four large Dornier aëroplanes, designed especially for the tremendous altitude flying necessary on the antarctic plateau and with added fuel-warming and quick-starting devices worked out by Pabodie, could transport our entire expedition from a base at the edge of the great ice barrier to various suitable inland points, and from these points a sufficient quota of dogs would serve us.',\n",
       " 'We planned to cover as great an area as one antarctic season—or longer, if absolutely necessary—would permit, operating mostly in the mountain-ranges and on the plateau south of Ross Sea; regions explored in varying degree by Shackleton, Amundsen, Scott, and Byrd.',\n",
       " 'With frequent changes of camp, made by aëroplane and involving distances great enough to be of geological significance, we expected to unearth a quite unprecedented amount of material; especially in the pre-Cambrian strata of which so narrow a range of antarctic specimens had previously been secured.',\n",
       " 'We wished also to obtain as great as possible a variety of the upper fossiliferous rocks, since the primal life-history of this bleak realm of ice and death is of the highest importance to our knowledge of the earth’s past.',\n",
       " 'That the antarctic continent was once temperate and even tropical, with a teeming vegetable and animal life of which the lichens, marine fauna, arachnida, and penguins of the northern edge are the only survivals, is a matter of common information; and we hoped to expand that information in variety, accuracy, and detail.',\n",
       " 'When a simple boring revealed fossiliferous signs, we would enlarge the aperture by blasting in order to get specimens of suitable size and condition.',\n",
       " 'Our borings, of varying depth according to the promise held out by the upper soil or rock, were to be confined to exposed or nearly exposed land surfaces—these inevitably being slopes and ridges because of the mile or two-mile thickness of solid ice overlying the lower levels.']"
      ]
     },
     "execution_count": 9,
     "metadata": {},
     "output_type": "execute_result"
    }
   ],
   "source": [
    "external_lines[:20]"
   ]
  },
  {
   "cell_type": "markdown",
   "metadata": {},
   "source": [
    "## Data preprocessing\n",
    "\n",
    "The first step when building a neural network model is getting your data into the proper form to feed into the network. Since we're using embedding layers, we'll need to encode each word with an integer. We'll also want to clean it up a bit.\n",
    "\n",
    "You can see an example of the reviews data above. We'll want to get rid of those periods. Also, you might notice that the reviews are delimited with newlines `\\n`. To deal with those, I'm going to split the text into each review using `\\n` as the delimiter. Then I can combined all the reviews back together into one big string.\n",
    "\n",
    "First, let's remove all punctuation. Then get all the text without the newlines and split it into individual words."
   ]
  },
  {
   "cell_type": "code",
   "execution_count": 10,
   "metadata": {
    "collapsed": true
   },
   "outputs": [],
   "source": [
    "from string import punctuation\n",
    "#all_text = ' '.join([c for c in reviews + test if c not in punctuation])\n",
    "all_text = ' '.join([c for c in reviews + test +external_lines])\n",
    "\n",
    "words = all_text.split()"
   ]
  },
  {
   "cell_type": "code",
   "execution_count": 11,
   "metadata": {},
   "outputs": [
    {
     "data": {
      "text/plain": [
       "'This process, however, afforded me no means of ascertaining the dimensions of my dungeon; as I might make its circuit, and return to the point whence I set out, without being aware of the fact; so perfectly uniform seemed the wall. It never once occurred to me that the fumbling might be a mere mistake. I'"
      ]
     },
     "execution_count": 11,
     "metadata": {},
     "output_type": "execute_result"
    }
   ],
   "source": [
    "all_text[:305]"
   ]
  },
  {
   "cell_type": "code",
   "execution_count": 12,
   "metadata": {},
   "outputs": [
    {
     "data": {
      "text/plain": [
       "['This',\n",
       " 'process,',\n",
       " 'however,',\n",
       " 'afforded',\n",
       " 'me',\n",
       " 'no',\n",
       " 'means',\n",
       " 'of',\n",
       " 'ascertaining',\n",
       " 'the',\n",
       " 'dimensions',\n",
       " 'of',\n",
       " 'my',\n",
       " 'dungeon;',\n",
       " 'as',\n",
       " 'I',\n",
       " 'might',\n",
       " 'make',\n",
       " 'its',\n",
       " 'circuit,',\n",
       " 'and',\n",
       " 'return',\n",
       " 'to',\n",
       " 'the',\n",
       " 'point',\n",
       " 'whence',\n",
       " 'I',\n",
       " 'set',\n",
       " 'out,',\n",
       " 'without',\n",
       " 'being',\n",
       " 'aware',\n",
       " 'of',\n",
       " 'the',\n",
       " 'fact;',\n",
       " 'so',\n",
       " 'perfectly',\n",
       " 'uniform',\n",
       " 'seemed',\n",
       " 'the',\n",
       " 'wall.',\n",
       " 'It',\n",
       " 'never',\n",
       " 'once',\n",
       " 'occurred',\n",
       " 'to',\n",
       " 'me',\n",
       " 'that',\n",
       " 'the',\n",
       " 'fumbling',\n",
       " 'might',\n",
       " 'be',\n",
       " 'a',\n",
       " 'mere',\n",
       " 'mistake.',\n",
       " 'In',\n",
       " 'his',\n",
       " 'left',\n",
       " 'hand',\n",
       " 'was',\n",
       " 'a',\n",
       " 'gold',\n",
       " 'snuff',\n",
       " 'box,',\n",
       " 'from',\n",
       " 'which,',\n",
       " 'as',\n",
       " 'he',\n",
       " 'capered',\n",
       " 'down',\n",
       " 'the',\n",
       " 'hill,',\n",
       " 'cutting',\n",
       " 'all',\n",
       " 'manner',\n",
       " 'of',\n",
       " 'fantastic',\n",
       " 'steps,',\n",
       " 'he',\n",
       " 'took',\n",
       " 'snuff',\n",
       " 'incessantly',\n",
       " 'with',\n",
       " 'an',\n",
       " 'air',\n",
       " 'of',\n",
       " 'the',\n",
       " 'greatest',\n",
       " 'possible',\n",
       " 'self',\n",
       " 'satisfaction.',\n",
       " 'How',\n",
       " 'lovely',\n",
       " 'is',\n",
       " 'spring',\n",
       " 'As',\n",
       " 'we',\n",
       " 'looked',\n",
       " 'from',\n",
       " 'Windsor']"
      ]
     },
     "execution_count": 12,
     "metadata": {},
     "output_type": "execute_result"
    }
   ],
   "source": [
    "words[:100]"
   ]
  },
  {
   "cell_type": "markdown",
   "metadata": {},
   "source": [
    "### Encoding the words\n",
    "\n",
    "The embedding lookup requires that we pass in integers to our network. The easiest way to do this is to create dictionaries that map the words in the vocabulary to integers. Then we can convert each of our reviews into integers so they can be passed into the network.\n",
    "\n",
    "> **Exercise:** Now you're going to encode the words with integers. Build a dictionary that maps words to integers. Later we're going to pad our input vectors with zeros, so make sure the integers **start at 1, not 0**.\n",
    "> Also, convert the reviews to integers and store the reviews in a new list called `reviews_ints`. "
   ]
  },
  {
   "cell_type": "code",
   "execution_count": 13,
   "metadata": {},
   "outputs": [
    {
     "data": {
      "text/plain": [
       "'In his left hand was a gold snuff box, from which, as he capered down the hill, cutting all manner of fantastic steps, he took snuff incessantly with an air of the greatest possible self satisfaction.'"
      ]
     },
     "execution_count": 13,
     "metadata": {},
     "output_type": "execute_result"
    }
   ],
   "source": [
    "reviews[2]"
   ]
  },
  {
   "cell_type": "code",
   "execution_count": 14,
   "metadata": {
    "collapsed": true
   },
   "outputs": [],
   "source": [
    "# Create your dictionary that maps vocab words to integers here\n",
    "vocab_to_int = {word:index for index,word in enumerate(set(words),1)}\n",
    "vocab_to_int[\"<PAD>\"] = 0\n",
    "\n",
    "# Convert the reviews to integers, same shape as reviews list, but with integers\n",
    "reviews_ints = []\n",
    "for review in reviews:\n",
    "    reviews_ints.append([vocab_to_int[word] for word in review.split()])\n",
    "    \n",
    "test_ints = []\n",
    "for test_line in test:\n",
    "    test_ints.append([vocab_to_int[word] for word in test_line.split()])\n",
    "    \n",
    "external_ints = []\n",
    "\n",
    "for external_line in external_lines:\n",
    "    external_ints.append([vocab_to_int[word] for word in external_line.split()])"
   ]
  },
  {
   "cell_type": "code",
   "execution_count": 15,
   "metadata": {},
   "outputs": [
    {
     "data": {
      "text/plain": [
       "100754"
      ]
     },
     "execution_count": 15,
     "metadata": {},
     "output_type": "execute_result"
    }
   ],
   "source": [
    "len(vocab_to_int)"
   ]
  },
  {
   "cell_type": "code",
   "execution_count": 16,
   "metadata": {},
   "outputs": [
    {
     "data": {
      "text/plain": [
       "[42178,\n",
       " 38138,\n",
       " 70482,\n",
       " 92423,\n",
       " 7083,\n",
       " 87546,\n",
       " 52942,\n",
       " 46556,\n",
       " 81495,\n",
       " 26446,\n",
       " 70834,\n",
       " 16563,\n",
       " 16664,\n",
       " 21379]"
      ]
     },
     "execution_count": 16,
     "metadata": {},
     "output_type": "execute_result"
    }
   ],
   "source": [
    "reviews_ints[1]"
   ]
  },
  {
   "cell_type": "code",
   "execution_count": 17,
   "metadata": {},
   "outputs": [
    {
     "data": {
      "text/plain": [
       "[33975,\n",
       " 16563,\n",
       " 67031,\n",
       " 73900,\n",
       " 84344,\n",
       " 18984,\n",
       " 81512,\n",
       " 4988,\n",
       " 70834,\n",
       " 69616,\n",
       " 12455,\n",
       " 16563,\n",
       " 95313,\n",
       " 26978,\n",
       " 84291,\n",
       " 46556,\n",
       " 31374,\n",
       " 97441,\n",
       " 84733,\n",
       " 21816,\n",
       " 4348,\n",
       " 64366,\n",
       " 28775,\n",
       " 52942,\n",
       " 4495,\n",
       " 26978,\n",
       " 81392,\n",
       " 36852,\n",
       " 74649,\n",
       " 83252,\n",
       " 57096,\n",
       " 75740,\n",
       " 83252,\n",
       " 16563,\n",
       " 72058,\n",
       " 32456,\n",
       " 94033,\n",
       " 85939,\n",
       " 49760,\n",
       " 34307,\n",
       " 16563,\n",
       " 8078,\n",
       " 29013,\n",
       " 63101,\n",
       " 83252,\n",
       " 39220,\n",
       " 26460,\n",
       " 52942,\n",
       " 46094,\n",
       " 97702,\n",
       " 83252,\n",
       " 76962,\n",
       " 29013,\n",
       " 16563,\n",
       " 44714,\n",
       " 62244,\n",
       " 47895,\n",
       " 46556,\n",
       " 18945,\n",
       " 29013,\n",
       " 16563,\n",
       " 47841]"
      ]
     },
     "execution_count": 17,
     "metadata": {},
     "output_type": "execute_result"
    }
   ],
   "source": [
    "test_ints[1]"
   ]
  },
  {
   "cell_type": "markdown",
   "metadata": {},
   "source": [
    "### Encoding the labels\n",
    "\n",
    "Our labels are \"positive\" or \"negative\". To use these labels in our network, we need to convert them to 0 and 1.\n",
    "\n",
    "> **Exercise:** Convert labels from `positive` and `negative` to 1 and 0, respectively."
   ]
  },
  {
   "cell_type": "code",
   "execution_count": 18,
   "metadata": {},
   "outputs": [
    {
     "name": "stdout",
     "output_type": "stream",
     "text": [
      "{'EAP': 0, 'HPL': 1, 'MWS': 2}\n",
      "{0: 'EAP', 1: 'HPL', 2: 'MWS'}\n",
      "[0, 1, 0, 2, 1, 2, 0, 0, 0, 2]\n"
     ]
    }
   ],
   "source": [
    "labels_to_int = {}\n",
    "int_to_labels = {}\n",
    "unique_labels = list(set(labels))\n",
    "for i,label in enumerate(unique_labels):\n",
    "    labels_to_int[label] = i\n",
    "    int_to_labels[i] = label\n",
    "    \n",
    "int_labels = []\n",
    "\n",
    "for label in labels:\n",
    "    int_labels.append(labels_to_int[label])\n",
    "    \n",
    "int_external_labels = []\n",
    "\n",
    "for label in external_authors:\n",
    "    int_external_labels.append(labels_to_int[label])\n",
    "    \n",
    "print(labels_to_int)\n",
    "print(int_to_labels)\n",
    "print(int_labels[:10])"
   ]
  },
  {
   "cell_type": "code",
   "execution_count": 19,
   "metadata": {},
   "outputs": [
    {
     "data": {
      "text/plain": [
       "array([[0, 1, 0],\n",
       "       [0, 1, 0],\n",
       "       [0, 1, 0],\n",
       "       ..., \n",
       "       [0, 0, 1],\n",
       "       [0, 0, 1],\n",
       "       [0, 0, 1]])"
      ]
     },
     "execution_count": 19,
     "metadata": {},
     "output_type": "execute_result"
    }
   ],
   "source": [
    "encoder = preprocessing.LabelBinarizer()\n",
    "encoder.fit(list(set(int_labels)))\n",
    "one_hot_labels = encoder.transform(int_labels)\n",
    "                                   \n",
    "one_hot_labels\n",
    "\n",
    "one_hot_external_labels = encoder.transform(int_external_labels)\n",
    "\n",
    "one_hot_external_labels"
   ]
  },
  {
   "cell_type": "code",
   "execution_count": 20,
   "metadata": {},
   "outputs": [
    {
     "name": "stdout",
     "output_type": "stream",
     "text": [
      "Zero-length reviews: 0\n",
      "Maximum review length: 861\n",
      "Minimum length: 2\n",
      "Average length: 92.09655172413792\n"
     ]
    }
   ],
   "source": [
    "from collections import Counter\n",
    "review_lens = Counter([len(x) for x in reviews_ints])\n",
    "print(\"Zero-length reviews: {}\".format(review_lens[0]))\n",
    "print(\"Maximum review length: {}\".format(max(review_lens)))\n",
    "print(\"Minimum length: {}\".format(min(review_lens)))\n",
    "print(\"Average length: {}\".format(sum(review_lens)/len(review_lens)))"
   ]
  },
  {
   "cell_type": "code",
   "execution_count": 21,
   "metadata": {},
   "outputs": [
    {
     "data": {
      "image/png": "[encoded data removed]",
      "text/plain": [
       "<matplotlib.figure.Figure at 0x7fe57aacffd0>"
      ]
     },
     "metadata": {},
     "output_type": "display_data"
    }
   ],
   "source": [
    "%matplotlib inline\n",
    "text_lens_list = list(review_lens)\n",
    "p,h,s = plt.hist(text_lens_list,bins = [0,50,100,150,200,250,300,350,400,450,500,550,600,650,700,750,800,850,900])"
   ]
  },
  {
   "cell_type": "code",
   "execution_count": 22,
   "metadata": {},
   "outputs": [
    {
     "name": "stdout",
     "output_type": "stream",
     "text": [
      "0.331034482759 % is between  0  and  50\n",
      "0.344827586207 % is between  50  and  100\n",
      "0.213793103448 % is between  100  and  150\n",
      "0.0620689655172 % is between  150  and  200\n",
      "0.0 % is between  200  and  250\n",
      "0.0137931034483 % is between  250  and  300\n",
      "0.00689655172414 % is between  300  and  350\n",
      "0.00689655172414 % is between  350  and  400\n",
      "0.00689655172414 % is between  400  and  450\n",
      "0.0 % is between  450  and  500\n",
      "0.0 % is between  500  and  550\n",
      "0.00689655172414 % is between  550  and  600\n",
      "0.0 % is between  600  and  650\n",
      "0.0 % is between  650  and  700\n",
      "0.0 % is between  700  and  750\n",
      "0.0 % is between  750  and  800\n",
      "0.0 % is between  800  and  850\n",
      "0.00689655172414 % is between  850  and  900\n"
     ]
    }
   ],
   "source": [
    "for  i in range(len(p)):\n",
    "    print(p[i]/len(text_lens_list)  ,\"% is between \",h[i],\" and \",h[i+1])"
   ]
  },
  {
   "cell_type": "markdown",
   "metadata": {},
   "source": [
    "aproximatly 67% of text lengths is between 0 and 100 , and 88% between 0 and 150, we can use 100 or 150 for seq lenght"
   ]
  },
  {
   "cell_type": "code",
   "execution_count": 23,
   "metadata": {},
   "outputs": [
    {
     "name": "stdout",
     "output_type": "stream",
     "text": [
      "Zero-length reviews: 0\n",
      "Maximum review length: 818\n",
      "Minimum length: 3\n",
      "Average length: 77.57377049180327\n"
     ]
    }
   ],
   "source": [
    "test_lens = Counter([len(x) for x in test_ints])\n",
    "print(\"Zero-length reviews: {}\".format(test_lens[0]))\n",
    "print(\"Maximum review length: {}\".format(max(test_lens)))\n",
    "print(\"Minimum length: {}\".format(min(test_lens)))\n",
    "print(\"Average length: {}\".format(sum(test_lens)/len(test_lens)))"
   ]
  },
  {
   "cell_type": "markdown",
   "metadata": {},
   "source": [
    "The maximum review length is way too many steps for our RNN. Let's truncate to 100 steps. For reviews shorter than 100, we'll pad with 0s. For reviews longer than 100, we can truncate them to the first 200 characters."
   ]
  },
  {
   "cell_type": "markdown",
   "metadata": {},
   "source": [
    "Now, create an array `features` that contains the data we'll pass to the network. The data should come from text ints, since we want to feed integers to the network. Each row should be 100 elements long. For lubes shorter than 200 words, left pad with 0s. \n"
   ]
  },
  {
   "cell_type": "code",
   "execution_count": 24,
   "metadata": {
    "collapsed": true
   },
   "outputs": [],
   "source": [
    "seq_len = 100\n",
    "features = []\n",
    "\n",
    "for review in reviews_ints:\n",
    "    review_size = len(review)\n",
    "    if review_size < seq_len:\n",
    "        padded_review = [0] * seq_len\n",
    "        padded_review[seq_len-len(review):seq_len] = review\n",
    "    elif review_size > seq_len:\n",
    "        padded_review = review[:seq_len]\n",
    "    \n",
    "    features.append(padded_review)\n",
    "features  = np.array(features)"
   ]
  },
  {
   "cell_type": "code",
   "execution_count": 25,
   "metadata": {},
   "outputs": [
    {
     "data": {
      "text/plain": [
       "array([[     0,      0,      0,      0,      0,      0,      0,      0,\n",
       "             0,      0,      0,      0,      0,      0,      0,      0,\n",
       "             0,      0,      0,      0,      0,      0,      0,      0,\n",
       "             0,      0,      0,      0,      0,      0,      0,      0,\n",
       "             0,      0,      0,      0,      0,      0,      0,      0,\n",
       "             0,      0,      0,      0,      0,      0,      0,      0,\n",
       "             0,      0,      0,      0,      0,      0,      0,      0,\n",
       "             0,      0,      0,  56771,  34050,  25793,  48113,  87546,\n",
       "         64366,  67442,  29013,   5930,  46556,  18891,  29013,   1863,\n",
       "         43525,  84291,  21816,  26446,  42186,  74870,  91559,  26978,\n",
       "         72741,   7083,  46556,  10099,   2212,  21816,  24074,  20513,\n",
       "          9862,   4825,  72456,  29013,  46556,  24614,  45941,    590,\n",
       "          3882,  15097,  46556,  25645],\n",
       "       [     0,      0,      0,      0,      0,      0,      0,      0,\n",
       "             0,      0,      0,      0,      0,      0,      0,      0,\n",
       "             0,      0,      0,      0,      0,      0,      0,      0,\n",
       "             0,      0,      0,      0,      0,      0,      0,      0,\n",
       "             0,      0,      0,      0,      0,      0,      0,      0,\n",
       "             0,      0,      0,      0,      0,      0,      0,      0,\n",
       "             0,      0,      0,      0,      0,      0,      0,      0,\n",
       "             0,      0,      0,      0,      0,      0,      0,      0,\n",
       "             0,      0,      0,      0,      0,      0,      0,      0,\n",
       "             0,      0,      0,      0,      0,      0,      0,      0,\n",
       "             0,      0,      0,      0,      0,      0,  42178,  38138,\n",
       "         70482,  92423,   7083,  87546,  52942,  46556,  81495,  26446,\n",
       "         70834,  16563,  16664,  21379],\n",
       "       [     0,      0,      0,      0,      0,      0,      0,      0,\n",
       "             0,      0,      0,      0,      0,      0,      0,      0,\n",
       "             0,      0,      0,      0,      0,      0,      0,      0,\n",
       "             0,      0,      0,      0,      0,      0,      0,      0,\n",
       "             0,      0,      0,      0,      0,      0,      0,      0,\n",
       "             0,      0,      0,      0,      0,      0,      0,      0,\n",
       "             0,      0,      0,      0,      0,      0,      0,      0,\n",
       "             0,      0,      0,      0,      0,      0,      0,      0,\n",
       "         35982,  35565,  51719,   4060,  49760,  16563,  16318,  40502,\n",
       "         30529,  53747,  86144,  84291,  75367,  66261,   8131,  46556,\n",
       "         36795,  68064,  39220,  65631,  29013,  26212,  94337,  75367,\n",
       "         24918,  40502,  49844,  12455,  25547,  89803,  29013,  46556,\n",
       "         81661,   2414,  47234,  23443],\n",
       "       [     0,      0,      0,      0,      0,      0,      0,      0,\n",
       "             0,      0,      0,      0,      0,      0,      0,      0,\n",
       "             0,      0,      0,      0,      0,      0,      0,      0,\n",
       "             0,      0,      0,      0,      0,      0,      0,      0,\n",
       "             0,      0,      0,      0,      0,      0,      0,      0,\n",
       "             0,      0,      0,      0,      0,      0,      0,      0,\n",
       "             0,      0,      0,      0,      0,      0,      0,      0,\n",
       "             0,      0,      0,      0,      0,      0,      0,      0,\n",
       "             0,      0,  39866,   9878,  19153,  64485,  17299,  85461,\n",
       "         43532,  53747,  62494,  64687,  71251,  46556,  27553,  11840,\n",
       "         71941,  49066,  33715,  42177,  44196,  35912,  56437,  26978,\n",
       "          4150,   6723,  39220,  43532,  84291,  83252,  87766,  12489,\n",
       "         50583,  45222,  26978,  23129],\n",
       "       [     0,      0,      0,      0,      0,      0,      0,      0,\n",
       "             0,      0,      0,      0,      0,      0,      0,      0,\n",
       "             0,      0,      0,      0,      0,      0,      0,      0,\n",
       "             0,      0,      0,      0,      0,      0,      0,      0,\n",
       "             0,      0,      0,      0,      0,      0,      0,      0,\n",
       "             0,      0,      0,      0,      0,      0,      0,      0,\n",
       "             0,      0,      0,      0,      0,      0,      0,      0,\n",
       "             0,      0,      0,      0,      0,      0,      0,      0,\n",
       "             0,      0,      0,      0,      0,      0,      0,      0,\n",
       "             0,  26778,  62645,  12874,  34307,  58282,  66047,  46556,\n",
       "         68114,  26889,  35565,  84741,  21557,  16563,  34673,  11755,\n",
       "         55573,  67744,  23665,  35565,   2599,  84291,  75367,  15438,\n",
       "         50734,  11833,  35565,  28169],\n",
       "       [     0,      0,      0,      0,      0,      0,      0,      0,\n",
       "             0,      0,      0,      0,      0,      0,      0,      0,\n",
       "             0,   4204,  70128,  95078,  83252,   9717,   1863,  62243,\n",
       "         96432,  95798,  58800,  49930,  44074,  26978,   2549,  93120,\n",
       "         25457,  45941,  13592,  46556,  50223,  29013,   1863,  27081,\n",
       "         52942,  21816,  24246,  72026,  25547,  37123,  49552,   7083,\n",
       "         46556,  55996,  86332,  20215,  71251,  21851,  54898,  21816,\n",
       "          4348,  38138, 100541,  18984,   7083,  70834,  56024,  26978,\n",
       "          8534,  21816,  86347,  29013,  16563,  64387,  99628,  98523,\n",
       "         55599,  35565,  41191,  29013,  50583,  26978,  46556,  31824,\n",
       "         26978,  91194,  67628,   7083,  54343,  44196,  35565,  43262,\n",
       "         21816,  85049,  41690,  53983,  23507,  83252,   4825,  29809,\n",
       "          7083,  53498,  35565,   7224],\n",
       "       [     0,      0,      0,      0,      0,      0,      0,      0,\n",
       "             0,      0,      0,      0,      0,      0,      0,      0,\n",
       "             0,      0,      0,      0,      0,      0,      0,      0,\n",
       "             0,      0,      0,      0,      0,      0,      0,      0,\n",
       "             0,      0,      0,      0,      0,      0,      0,      0,\n",
       "             0,      0,      0,      0,      0,      0,      0,      0,\n",
       "             0,      0,      0,      0,      0,      0,      0,      0,\n",
       "             0,      0,      0,      0,      0,      0,      0,      0,\n",
       "             0,      0,      0,      0,      0,      0,      0,      0,\n",
       "             0,      0,      0,      0,      0,      0,      0,  90904,\n",
       "         50795,  80156,  11833,  19076,  24174,  24918,  25135,  83252,\n",
       "         46556,  72736,  29013,  87298,  55583,  26978,  97270,  27204,\n",
       "         49760,  58991,  79563,  38726],\n",
       "       [     0,      0,      0,      0,      0,      0,      0,      0,\n",
       "             0,      0,      0,      0,      0,      0,      0,      0,\n",
       "             0,      0,      0,      0,      0,      0,      0,      0,\n",
       "             0,      0,      0,      0,      0,      0,      0,      0,\n",
       "             0,      0,      0,      0,      0,      0,      0,      0,\n",
       "             0,      0,      0,      0,      0,      0,      0,      0,\n",
       "             0,      0,      0,      0,      0,      0,      0,      0,\n",
       "             0,      0,      0,      0,      0,      0,      0,      0,\n",
       "             0,      0,      0,      0,      0,      0,      0,      0,\n",
       "             0,      0,      0,      0,      0,      0,      0,      0,\n",
       "             0,      0,      0,      0,      0,      0,      0,      0,\n",
       "             0,      0,      0,      0,  90904,  11913,  12721,  83252,\n",
       "         43832,  53747,   1863,  68049],\n",
       "       [     0,      0,      0,      0,      0,      0,      0,      0,\n",
       "             0,      0,      0,      0,  21816,  50871,  52942,  64817,\n",
       "         81512,  34307,   1030,   7083,   1955,  37244,   9862,   4825,\n",
       "         69984,   7083,  28276,  29013,  13951,  26978,  25599,  29013,\n",
       "         46556,  75281,  29013,  69994,  26978,  77764,   8534,  85461,\n",
       "         80122,  19076,  61004,  34307,  72058,   1951,  32953,  21816,\n",
       "          9101,   7083,  64817,  14058,  94965,  54528,  12455,  14058,\n",
       "         68035,     45,  46556,  41625,  93851,  29013,  52942,  26434,\n",
       "         73498,  90325,   5612,  12455,  55717,  83252,  46556,  99709,\n",
       "         91376,  70622,  21816,  85049,  52942,  64817,  81512,  34307,\n",
       "         95518,  55144,  49930,   7925,  11678,   7083,  46556,  21060,\n",
       "         73200,  83252,  90465,  26978,  21816,  81400,  58607,  52942,\n",
       "         64817,  31338,  46650,  68940],\n",
       "       [     0,      0,      0,      0,      0,      0,      0,      0,\n",
       "             0,      0,      0,      0,      0,      0,      0,      0,\n",
       "             0,      0,      0,      0,      0,      0,      0,      0,\n",
       "             0,      0,      0,      0,      0,      0,      0,      0,\n",
       "             0,      0,      0,      0,      0,      0,      0,      0,\n",
       "             0,      0,      0,      0,      0,      0,      0,      0,\n",
       "             0,      0,      0,      0,      0,      0,      0,      0,\n",
       "             0,      0,      0,      0,      0,      0,      0,      0,\n",
       "             0,      0,      0,      0,      0,      0,      0,      0,\n",
       "             0,      0,      0,      0,      0,  21816,   6531,  52942,\n",
       "         77727,  46556,    429,  29013,  76572,  92314,  46556,  69686,\n",
       "         29013,   2352,  92314,  46556,  45800,  29013,  94412,  21707,\n",
       "           451,  82122,  55599,  42079]])"
      ]
     },
     "execution_count": 25,
     "metadata": {},
     "output_type": "execute_result"
    }
   ],
   "source": [
    "features[:10,:100]"
   ]
  },
  {
   "cell_type": "code",
   "execution_count": 26,
   "metadata": {
    "collapsed": true
   },
   "outputs": [],
   "source": [
    "test_features = []\n",
    "\n",
    "for test_line in test_ints:\n",
    "    line_size = len(test_line)\n",
    "    if line_size < seq_len:\n",
    "        padded_line = [0] * seq_len\n",
    "        padded_line[seq_len-len(test_line):seq_len] = test_line\n",
    "    elif line_size > seq_len:\n",
    "        padded_line = test_line[:seq_len]\n",
    "        \n",
    "    test_features.append(padded_line)\n",
    "\n",
    "test_features = np.array(test_features)"
   ]
  },
  {
   "cell_type": "code",
   "execution_count": 27,
   "metadata": {},
   "outputs": [
    {
     "data": {
      "text/plain": [
       "(8392, 100)"
      ]
     },
     "execution_count": 27,
     "metadata": {},
     "output_type": "execute_result"
    }
   ],
   "source": [
    "test_features.shape"
   ]
  },
  {
   "cell_type": "code",
   "execution_count": 28,
   "metadata": {},
   "outputs": [
    {
     "data": {
      "text/plain": [
       "array([[    0,     0,     0,     0,     0,     0,     0,     0,     0,\n",
       "            0,     0,     0,     0,     0,     0,     0,     0,     0,\n",
       "            0,     0,     0,     0,     0,     0,     0,     0,     0,\n",
       "            0,     0,     0,     0,     0,     0,     0,     0,     0,\n",
       "            0,     0,     0,     0,     0,     0,     0,     0,     0,\n",
       "            0,     0,     0,     0,     0,     0,     0,     0,     0,\n",
       "            0,     0,     0,     0,     0,     0,     0,     0,     0,\n",
       "            0,     0,     0,     0,     0,     0,     0,     0,     0,\n",
       "            0,     0,     0,     0,     0,     0,     0,     0,     0,\n",
       "        53178, 84291, 21816, 20391, 94015, 88209, 96930, 12455, 53351,\n",
       "        86086, 26978, 86196,  1863,  3753, 38346, 18984, 62243,  7083,\n",
       "        66281],\n",
       "       [    0,     0,     0,     0,     0,     0,     0,     0,     0,\n",
       "            0,     0,     0,     0,     0,     0,     0,     0,     0,\n",
       "            0,     0,     0,     0,     0,     0,     0,     0,     0,\n",
       "            0,     0,     0,     0,     0,     0,     0,     0,     0,\n",
       "            0,     0, 33975, 16563, 67031, 73900, 84344, 18984, 81512,\n",
       "         4988, 70834, 69616, 12455, 16563, 95313, 26978, 84291, 46556,\n",
       "        31374, 97441, 84733, 21816,  4348, 64366, 28775, 52942,  4495,\n",
       "        26978, 81392, 36852, 74649, 83252, 57096, 75740, 83252, 16563,\n",
       "        72058, 32456, 94033, 85939, 49760, 34307, 16563,  8078, 29013,\n",
       "        63101, 83252, 39220, 26460, 52942, 46094, 97702, 83252, 76962,\n",
       "        29013, 16563, 44714, 62244, 47895, 46556, 18945, 29013, 16563,\n",
       "        47841],\n",
       "       [    0,     0,     0,     0,     0,     0,     0,     0,     0,\n",
       "            0,     0,     0,     0,     0,     0,     0,     0,     0,\n",
       "            0,     0,     0,     0,     0,     0,     0,     0,     0,\n",
       "            0,     0,     0,     0,     0,     0,     0,     0,     0,\n",
       "            0,     0,     0,     0,     0,     0,     0,     0,     0,\n",
       "            0,     0,     0,     0,     0,     0,     0,     0,     0,\n",
       "            0,     0,     0,     0,     0,     0,     0,     0,     0,\n",
       "            0,     0,     0,     0, 58994,  8534,   638, 90325, 36472,\n",
       "         8131, 46556, 58594,  4458,   638, 33064, 44979, 94533, 70099,\n",
       "        73249, 27823, 11794, 74918, 71251, 46556, 99170, 14653, 26978,\n",
       "        16563, 62296, 29013, 76796, 32849, 88155, 83252, 46556, 31042,\n",
       "        74688],\n",
       "       [    0,     0,     0,     0,     0,     0,     0,     0,     0,\n",
       "            0,     0,     0,     0,     0,     0,     0,     0,     0,\n",
       "            0,     0,     0,     0,     0,     0,     0,     0,     0,\n",
       "            0,     0,     0,     0,     0,     0,     0,     0,     0,\n",
       "            0,     0,     0,     0,     0,     0,     0,     0,     0,\n",
       "            0,     0,     0,     0,     0,     0,     0,     0,     0,\n",
       "            0,     0,     0,     0,     0, 45193, 21816, 49760, 50734,\n",
       "        14058, 21816, 48460, 82453, 20231,  9862, 85354,  6896, 58866,\n",
       "         2040, 23007, 29013,  1863, 43705, 72251, 44357,  8131, 46556,\n",
       "        75855, 75225, 29013, 46556, 91126, 82881, 83252, 46556, 18389,\n",
       "        72122, 80285, 75172, 30705, 46556, 92520, 29013, 46556, 87187,\n",
       "         4908],\n",
       "       [    0,     0,     0,     0,     0,     0,     0,     0,     0,\n",
       "            0,     0,     0,     0,     0,     0,     0,     0,     0,\n",
       "            0,     0,     0,     0,     0,     0,     0,     0,     0,\n",
       "            0,     0,     0,     0,     0,     0,     0,     0,     0,\n",
       "            0,     0,     0,     0,     0,     0,     0,     0,     0,\n",
       "            0,     0,     0,     0,     0,     0,     0,     0,     0,\n",
       "            0,     0,     0,     0,     0,     0,     0,     0,     0,\n",
       "            0,     0,     0,     0,     0,     0,     0,     0,     0,\n",
       "            0,     0,     0,     0,     0,     0,     0,     0,     0,\n",
       "            0,     0,     0,     0,     0,     0,     0,     0, 21816,\n",
       "        88826, 34307, 58779,  7083,  4781, 52132, 35565, 67847, 14933,\n",
       "        56903],\n",
       "       [    0,     0,     0,     0,     0,     0,     0,     0,     0,\n",
       "            0,     0,     0,     0,     0,     0,     0,     0,     0,\n",
       "            0,     0,     0,     0,     0,     0,     0,     0,     0,\n",
       "            0,     0,     0,     0,     0,     0,     0,     0,     0,\n",
       "            0,     0,     0,     0,     0,     0,     0,     0,     0,\n",
       "            0,     0,     0,     0,     0,     0,     0,     0,     0,\n",
       "            0,     0,     0,     0,     0,     0,     0,     0,     0,\n",
       "            0,     0,     0,     0,     0, 36171,  2038, 26978, 97222,\n",
       "        66583, 62244, 85564, 80285, 99298, 46556,  6214, 28661, 26978,\n",
       "        80285, 81144, 12721, 84311, 23665, 39220,  8182, 18223, 64366,\n",
       "        63950,  7083,  3443, 46556, 41625, 16943, 80285, 68258, 79815,\n",
       "        66667],\n",
       "       [    0,     0,     0,     0,     0,     0,     0,     0,     0,\n",
       "            0,     0,     0,     0,     0,     0,     0,     0,     0,\n",
       "            0,     0,     0,     0,     0,     0,     0,     0,     0,\n",
       "            0,     0,     0,     0,     0,     0,     0,     0,     0,\n",
       "            0,     0,     0,     0,     0,     0,     0,     0,     0,\n",
       "            0,     0,     0,     0,     0,     0,     0,     0,     0,\n",
       "            0,     0,     0,     0,     0,     0,     0,     0,     0,\n",
       "            0,     0,     0,     0,     0,     0,     0,     0,     0,\n",
       "            0,     0,     0,     0,     0,     0,     0,     0,     0,\n",
       "            0,     0,     0,     0,     0,     0, 10093, 80285, 19153,\n",
       "        34307, 55973, 19153, 34307, 11833, 39220, 28002, 92555, 69580,\n",
       "        92010],\n",
       "       [    0,     0,     0,     0,     0,     0,     0,     0,     0,\n",
       "            0,     0,     0,     0,     0,     0,     0,     0,     0,\n",
       "            0,     0,     0,     0,     0,     0,     0,     0,     0,\n",
       "            0,     0,     0,     0,     0,     0,     0,     0,     0,\n",
       "            0,     0,     0,     0,     0,     0,     0,     0,     0,\n",
       "            0,     0,     0,     0,     0,     0,     0,     0,     0,\n",
       "            0,     0,     0,     0,     0,     0,     0,     0,     0,\n",
       "            0,     0,     0,     0,     0,     0,     0, 21816, 41948,\n",
       "        55599,  3339, 59241, 21816, 48948, 34307, 40373, 55599, 81410,\n",
       "        21816, 50871, 21816, 48460, 70834, 93257, 44196, 74676, 21557,\n",
       "        48948, 34307, 73599, 46556,  4414,  6896, 52942, 21816, 23690,\n",
       "        77678],\n",
       "       [    0,     0,     0,     0,     0,     0,     0,     0,     0,\n",
       "            0,     0,     0,     0,     0,     0,     0,     0,     0,\n",
       "            0,     0,     0,     0,     0,     0,     0,     0,     0,\n",
       "            0,     0,     0,     0,     0,     0,     0,     0,     0,\n",
       "            0,     0,     0,     0,     0,     0,     0,     0,     0,\n",
       "            0,     0,     0,     0,     0,     0,     0,     0,     0,\n",
       "            0,     0,     0,     0,     0,     0,     0,     0,     0,\n",
       "            0,     0,     0,     0,     0,     0,     0,     0,     0,\n",
       "        68397, 46556, 90108, 71499, 29013, 46556, 87915, 16563, 19517,\n",
       "        29013, 46556, 53092, 28856, 72058, 10983, 40281, 46556, 20040,\n",
       "        26978, 48580, 17648,  7083, 42186, 63881, 66813, 29013, 46556,\n",
       "        56147],\n",
       "       [    0,     0,     0,     0,     0,     0,     0,     0,     0,\n",
       "            0,     0,     0,     0,     0,     0,     0,     0,     0,\n",
       "            0,     0,     0,     0,     0,     0,     0,     0,     0,\n",
       "            0,     0,     0,     0,     0,     0,     0,     0,     0,\n",
       "            0,     0,     0,     0,     0,     0,     0,     0,     0,\n",
       "            0,     0,     0,     0,     0,     0,     0,     0,     0,\n",
       "            0,     0,     0,     0,     0,     0,     0,     0,     0,\n",
       "            0,     0,     0,     0,     0,     0,     0,     0,     0,\n",
       "            0,     0,     0,     0,     0,     0,     0,     0,     0,\n",
       "            0,     0,     0,     0,     0,     0,     0,     0,     0,\n",
       "            0,     0, 36171, 72163, 55789, 19153, 86005, 16563, 58484,\n",
       "          581]])"
      ]
     },
     "execution_count": 28,
     "metadata": {},
     "output_type": "execute_result"
    }
   ],
   "source": [
    "test_features[:10,:100]"
   ]
  },
  {
   "cell_type": "code",
   "execution_count": 29,
   "metadata": {
    "collapsed": true
   },
   "outputs": [],
   "source": [
    "external_features = []\n",
    "\n",
    "for external_line in external_ints:\n",
    "    line_size = len(external_line)\n",
    "    if line_size < seq_len:\n",
    "        padded_line = [0] * seq_len\n",
    "        padded_line[seq_len-len(external_line):seq_len] = external_line\n",
    "    elif line_size > seq_len:\n",
    "        padded_line = external_line[:seq_len]\n",
    "        \n",
    "    external_features.append(padded_line)\n",
    "\n",
    "external_features = np.array(external_features)"
   ]
  },
  {
   "cell_type": "markdown",
   "metadata": {},
   "source": [
    "## Training, Validation, Test\n",
    "\n"
   ]
  },
  {
   "cell_type": "markdown",
   "metadata": {},
   "source": [
    "With our data in nice shape, we'll split it into training, validation, and test sets."
   ]
  },
  {
   "cell_type": "code",
   "execution_count": 30,
   "metadata": {},
   "outputs": [
    {
     "name": "stdout",
     "output_type": "stream",
     "text": [
      "\t\t\tFeature Shapes:\n",
      "Train set: \t\t(69721, 100) (69721, 3) \n",
      "Validation set: \t(1958, 100) \n",
      "Test set: \t\t(1958, 100)\n"
     ]
    }
   ],
   "source": [
    "split_frac = 0.80\n",
    "\n",
    "split_index  = int(len(features)*split_frac)\n",
    "\n",
    "train_x, val_x = features[:split_index],features[split_index:]\n",
    "train_y, val_y = one_hot_labels[:split_index],one_hot_labels[split_index:]\n",
    "\n",
    "split_index = int(len(val_x)/2)\n",
    "\n",
    "val_x, test_x = val_x[:split_index],val_x[split_index:]\n",
    "val_y, test_y = val_y[:split_index],val_y[split_index:]\n",
    "\n",
    "# add external data to traininig set\n",
    "train_x = np.append(train_x, external_features,axis = 0)\n",
    "train_y = np.append(train_y, one_hot_external_labels,axis= 0)\n",
    "random_indexes = np.random.permutation(train_x.shape[0])\n",
    "\n",
    "train_x = train_x[random_indexes]\n",
    "train_y = train_y[random_indexes]\n",
    "\n",
    "print(\"\\t\\t\\tFeature Shapes:\")\n",
    "print(\"Train set: \\t\\t{}\".format(train_x.shape), train_y.shape, \n",
    "      \"\\nValidation set: \\t{}\".format(val_x.shape),\n",
    "      \"\\nTest set: \\t\\t{}\".format(test_x.shape))\n"
   ]
  },
  {
   "cell_type": "markdown",
   "metadata": {},
   "source": [
    "## Build the graph\n",
    "\n",
    "Here, we'll build the graph. First up, defining the hyperparameters.\n",
    "\n",
    "* `lstm_size`: Number of units in the hidden layers in the LSTM cells. Usually larger is better performance wise. Common values are 128, 256, 512, etc.\n",
    "* `lstm_layers`: Number of LSTM layers in the network. I'd start with 1, then add more if I'm underfitting.\n",
    "* `batch_size`: The number of reviews to feed the network in one training pass. Typically this should be set as high as you can go without running out of memory.\n",
    "* `learning_rate`: Learning rate"
   ]
  },
  {
   "cell_type": "code",
   "execution_count": 31,
   "metadata": {
    "collapsed": true
   },
   "outputs": [],
   "source": [
    "lstm_size = 256\n",
    "fully_connected_size = 15\n",
    "lstm_layers = 1\n",
    "fully_connected_layers = 2\n",
    "batch_size = 512\n",
    "learning_rate = 0.005\n",
    "dropout_lstm = 0.9\n",
    "dropout_fully_connected = 0.9\n",
    "display_every_iterations = 20 "
   ]
  },
  {
   "cell_type": "code",
   "execution_count": 32,
   "metadata": {},
   "outputs": [
    {
     "data": {
      "text/plain": [
       "'lstm_layers=1&lstm_size=256&fully_connected_layers=2&fully_connected_size=15&batch_size=512&learning_rate=0.005&lstm_dropout=0.9&fully_connected_dropout=0.9'"
      ]
     },
     "execution_count": 32,
     "metadata": {},
     "output_type": "execute_result"
    }
   ],
   "source": [
    "def get_configuration_string(lstm_layers,lstm_size,fully_connected_layers,fully_connected_size,batch_size,learning_rate,lstm_dropout,fully_connected_dropout):\n",
    "    configuration_string = \"lstm_layers={}&lstm_size={}&fully_connected_layers={}&\\\n",
    "fully_connected_size={}&batch_size={}&learning_rate={}&lstm_dropout={}&fully_connected_dropout={}\" \\\n",
    "    .format(lstm_layers,lstm_size,fully_connected_layers,fully_connected_size,batch_size,learning_rate,lstm_dropout,fully_connected_dropout)\n",
    "    \n",
    "    return configuration_string\n",
    "    \n",
    "get_configuration_string(lstm_layers,lstm_size,fully_connected_layers,fully_connected_size,batch_size,learning_rate,dropout_lstm,dropout_fully_connected)"
   ]
  },
  {
   "cell_type": "markdown",
   "metadata": {},
   "source": [
    "For the network itself, we'll be passing in our 100 element long review vectors. Each batch will be `batch_size` vectors. We'll also be using dropout on the LSTM layer, so we'll make a placeholder for the keep probability."
   ]
  },
  {
   "cell_type": "code",
   "execution_count": 33,
   "metadata": {
    "collapsed": true
   },
   "outputs": [],
   "source": [
    "n_words = len(vocab_to_int)\n",
    "\n",
    "# Create the graph object\n",
    "graph = tf.Graph()\n",
    "# Add nodes to the graph\n",
    "with graph.as_default():\n",
    "    inputs_ = tf.placeholder(tf.int32,shape=[batch_size,None],name=\"inputs\")\n",
    "    labels_ = tf.placeholder(tf.int32,shape=[batch_size,len(unique_labels)],name = \"labels\")\n",
    "    keep_prob = tf.placeholder(tf.float32,name =\"keep_prob\")\n",
    "    fully_connected_keep_prob = tf.placeholder(tf.float32,name = \"fc_keep_prob\")\n",
    "    learning_rate_ = tf.placeholder(tf.float32,name = \"learning_rate\") "
   ]
  },
  {
   "cell_type": "markdown",
   "metadata": {},
   "source": [
    "### Embedding\n",
    "\n",
    "Now we'll add an embedding layer. We need to do this because there are many words in our vocabulary. It is massively inefficient to one-hot encode our classes here. Instead of one-hot encoding, we can have an embedding layer and use that layer as a lookup table. You could train an embedding layer using word2vec, then load it here. But, it's fine to just make a new layer and let the network learn the weights.\n",
    "\n",
    " Create the embedding lookup matrix as a `tf.Variable`. Use that embedding matrix to get the embedded vectors to pass to the LSTM cell with [`tf.nn.embedding_lookup`](https://www.tensorflow.org/api_docs/python/tf/nn/embedding_lookup). This function takes the embedding matrix and an input tensor, such as the review vectors. Then, it'll return another tensor with the embedded vectors. So, if the embedding layer has 200 units, the function will return a tensor with size [batch_size, 200].\n",
    "\n"
   ]
  },
  {
   "cell_type": "code",
   "execution_count": 34,
   "metadata": {
    "collapsed": true
   },
   "outputs": [],
   "source": [
    "# Size of the embedding vectors (number of units in the embedding layer)\n",
    "embed_size = 300 \n",
    "\n",
    "with graph.as_default():\n",
    "    embedding = tf.Variable(tf.random_uniform((n_words,embed_size),-0.5,0.5))\n",
    "    embed = tf.nn.embedding_lookup(embedding,inputs_)"
   ]
  },
  {
   "cell_type": "markdown",
   "metadata": {},
   "source": [
    "### LSTM cell\n",
    "\n",
    "<img src=\"assets/network_diagram.png\" width=400px>\n",
    "\n",
    "Next, we'll create our LSTM cells to use in the recurrent network ([TensorFlow documentation](https://www.tensorflow.org/api_docs/python/tf/contrib/rnn)). Here we are just defining what the cells look like. This isn't actually building the graph, just defining the type of cells we want in our graph.\n",
    "\n",
    "To create a basic LSTM cell for the graph, you'll want to use `tf.contrib.rnn.BasicLSTMCell`. Looking at the function documentation:\n",
    "\n",
    "```\n",
    "tf.contrib.rnn.BasicLSTMCell(num_units, forget_bias=1.0, input_size=None, state_is_tuple=True, activation=<function tanh at 0x109f1ef28>)\n",
    "```\n",
    "\n",
    "you can see it takes a parameter called `num_units`, the number of units in the cell, called `lstm_size` in this code. So then, you can write something like \n",
    "\n",
    "```\n",
    "lstm = tf.contrib.rnn.BasicLSTMCell(num_units)\n",
    "```\n",
    "\n",
    "to create an LSTM cell with `num_units`. Next, you can add dropout to the cell with `tf.contrib.rnn.DropoutWrapper`. This just wraps the cell in another cell, but with dropout added to the inputs and/or outputs. It's a really convenient way to make your network better with almost no effort! So you'd do something like\n",
    "\n",
    "```\n",
    "drop = tf.contrib.rnn.DropoutWrapper(cell, output_keep_prob=keep_prob)\n",
    "```\n",
    "\n",
    "Most of the time, your network will have better performance with more layers. That's sort of the magic of deep learning, adding more layers allows the network to learn really complex relationships. Again, there is a simple way to create multiple layers of LSTM cells with `tf.contrib.rnn.MultiRNNCell`:\n",
    "\n",
    "```\n",
    "cell = tf.contrib.rnn.MultiRNNCell([drop] * lstm_layers)\n",
    "```\n",
    "\n",
    "Here, `[drop] * lstm_layers` creates a list of cells (`drop`) that is `lstm_layers` long. The `MultiRNNCell` wrapper builds this into multiple layers of RNN cells, one for each cell in the list.\n",
    "\n",
    "So the final cell you're using in the network is actually multiple (or just one) LSTM cells with dropout. But it all works the same from an achitectural viewpoint, just a more complicated graph in the cell.\n",
    "\n",
    "> **Exercise:** Below, use `tf.contrib.rnn.BasicLSTMCell` to create an LSTM cell. Then, add drop out to it with `tf.contrib.rnn.DropoutWrapper`. Finally, create multiple LSTM layers with `tf.contrib.rnn.MultiRNNCell`.\n",
    "\n",
    "Here is [a tutorial on building RNNs](https://www.tensorflow.org/tutorials/recurrent) that will help you out.\n"
   ]
  },
  {
   "cell_type": "code",
   "execution_count": 35,
   "metadata": {
    "collapsed": true
   },
   "outputs": [],
   "source": [
    "with graph.as_default():\n",
    "    # Your basic LSTM cell\n",
    "    #lstm = tf.contrib.rnn.BasicLSTMCell(num_units=lstm_size)\n",
    "    \n",
    "    # Add dropout to the cell\n",
    "    #drop = tf.contrib.rnn.DropoutWrapper(lstm,output_keep_prob=keep_prob)\n",
    "    \n",
    "    # Stack up multiple LSTM layers, for deep learning\n",
    "    #cell = tf.contrib.rnn.MultiRNNCell([drop]*lstm_layers)\n",
    "    cell_list = [tf.contrib.rnn.DropoutWrapper(tf.contrib.rnn.BasicLSTMCell(num_units=lstm_size) ,output_keep_prob=keep_prob)  ]\n",
    "    cell = tf.contrib.rnn.MultiRNNCell(cell_list)\n",
    "    # Getting an initial state of all zeros\n",
    "    initial_state = cell.zero_state(batch_size, tf.float32)"
   ]
  },
  {
   "cell_type": "markdown",
   "metadata": {},
   "source": [
    "### RNN forward pass\n",
    "\n",
    "<img src=\"assets/network_diagram.png\" width=400px>\n",
    "\n",
    "Now we need to actually run the data through the RNN nodes. You can use [`tf.nn.dynamic_rnn`](https://www.tensorflow.org/api_docs/python/tf/nn/dynamic_rnn) to do this. You'd pass in the RNN cell you created (our multiple layered LSTM `cell` for instance), and the inputs to the network.\n",
    "\n",
    "```\n",
    "outputs, final_state = tf.nn.dynamic_rnn(cell, inputs, initial_state=initial_state)\n",
    "```\n",
    "\n",
    "Above I created an initial state, `initial_state`, to pass to the RNN. This is the cell state that is passed between the hidden layers in successive time steps. `tf.nn.dynamic_rnn` takes care of most of the work for us. We pass in our cell and the input to the cell, then it does the unrolling and everything else for us. It returns outputs for each time step and the final_state of the hidden layer.\n",
    "\n",
    "\n"
   ]
  },
  {
   "cell_type": "code",
   "execution_count": 36,
   "metadata": {
    "collapsed": true
   },
   "outputs": [],
   "source": [
    "with graph.as_default():\n",
    "    outputs, final_state = tf.nn.dynamic_rnn(cell,embed,initial_state=initial_state)"
   ]
  },
  {
   "cell_type": "markdown",
   "metadata": {},
   "source": [
    "### Output\n",
    "\n",
    "We only care about the final output, we'll be using that as our sentiment prediction. So we need to grab the last output with `outputs[:, -1]`, the calculate the cost from that and `labels_`."
   ]
  },
  {
   "cell_type": "code",
   "execution_count": 37,
   "metadata": {
    "collapsed": true
   },
   "outputs": [],
   "source": [
    "with graph.as_default():\n",
    "    fully_connected = tf.contrib.layers.fully_connected(outputs[:, -1], fully_connected_size, activation_fn=tf.nn.relu)\n",
    "    fully_connected = tf.nn.dropout(fully_connected,fully_connected_keep_prob)\n",
    "    \n",
    "    \n",
    "    for layer in range(fully_connected_layers - 1):\n",
    "        fully_connected = tf.contrib.layers.fully_connected(fully_connected, fully_connected_size, activation_fn=tf.nn.relu)\n",
    "        fully_connected = tf.nn.dropout(fully_connected,fully_connected_keep_prob)\n",
    "        \n",
    "    fully_connected = tf.contrib.layers.fully_connected(fully_connected, 3, activation_fn=tf.nn.relu)\n",
    "    logits = tf.identity(fully_connected)\n",
    "    cost = tf.reduce_mean(tf.nn.softmax_cross_entropy_with_logits(logits = logits, labels=labels_))\n",
    "    \n",
    "    optimizer = tf.train.AdamOptimizer(learning_rate_).minimize(cost)"
   ]
  },
  {
   "cell_type": "markdown",
   "metadata": {},
   "source": [
    "### Validation accuracy\n",
    "\n",
    "Here we can add a few nodes to calculate the accuracy which we'll use in the validation pass."
   ]
  },
  {
   "cell_type": "code",
   "execution_count": 38,
   "metadata": {
    "collapsed": true
   },
   "outputs": [],
   "source": [
    "with graph.as_default():\n",
    "    predictions = tf.nn.softmax(logits)\n",
    "    predictions_hardmax = tf.argmax(predictions,1)\n",
    "#    correct_pred = tf.equal(tf.cast(tf.round(predictions), tf.int32), labels_)\n",
    "#    accuracy = tf.reduce_mean(tf.cast(correct_pred, tf.float32))"
   ]
  },
  {
   "cell_type": "markdown",
   "metadata": {},
   "source": [
    "### Batching\n",
    "\n",
    "This is a simple function for returning batches from our data. First it removes data such that we only have full batches. Then it iterates through the `x` and `y` arrays and returns slices out of those arrays with size `[batch_size]`."
   ]
  },
  {
   "cell_type": "code",
   "execution_count": 39,
   "metadata": {
    "collapsed": true
   },
   "outputs": [],
   "source": [
    "def get_batches(x, y, batch_size=100):\n",
    "    #shuffle batches at every ecoch    \n",
    "    n_batches = len(x)//batch_size\n",
    "    x, y = x[:n_batches*batch_size], y[:n_batches*batch_size]\n",
    "    for ii in range(0, len(x), batch_size):\n",
    "        yield x[ii:ii+batch_size], y[ii:ii+batch_size]"
   ]
  },
  {
   "cell_type": "markdown",
   "metadata": {},
   "source": [
    "## Training\n",
    "\n",
    "Before you run this, make sure the `checkpoints` directory exists."
   ]
  },
  {
   "cell_type": "code",
   "execution_count": 40,
   "metadata": {
    "collapsed": true
   },
   "outputs": [],
   "source": [
    "def calc_classification_metrics(predictions,real_values):\n",
    "    accuracy =  sum(predictions == real_values)/predictions.shape[0] # metrics.accuracy_score(predictions,real_values)\n",
    "    error = 1 - accuracy\n",
    "    precision = 0# metrics.precision_score(predictions,real_values)\n",
    "    recall = 0#metrics.recall_score(predictions,real_values)\n",
    "    \n",
    "    return accuracy,error,precision,recall\n"
   ]
  },
  {
   "cell_type": "code",
   "execution_count": 41,
   "metadata": {
    "collapsed": true
   },
   "outputs": [],
   "source": [
    "# Function to generate a table for manual error analysis\n",
    "# compares prediction vs real values, and if different generates a row in analysis table\n",
    "# the columns of the table represent the possible errors in the form correct_label:<author>_predicted_label:<author>\n",
    "# these columns store 1 for the corresponding error in the line, 0 for the rest\n",
    "def error_analysis(configuration_string,predictions,real_values):\n",
    "    headers = []\n",
    "    \n",
    "    for correct_label in int_to_labels.values():\n",
    "        for predicted_label in int_to_labels.values():\n",
    "            if correct_label != predicted_label:\n",
    "                analysis_column = \"correct_label:\"+correct_label+\"_predicted_label:\"+predicted_label\n",
    "                headers.append(analysis_column)\n",
    "                    \n",
    "    with open(\"error_analysis/\"+configuration_string+\".csv\",\"w\") as error_file:\n",
    "                header_writer = csv.writer(error_file)\n",
    "                writer = csv.DictWriter(error_file, fieldnames= headers, quoting=csv.QUOTE_ALL)\n",
    "                header_writer.writerow(headers)\n",
    "    \n",
    "                for i in range(predictions.shape[0]):\n",
    "                    analysis_colums = {}\n",
    "\n",
    "                    for header in headers:\n",
    "                        analysis_colums[header] = 0\n",
    "\n",
    "                    if predictions[i] != real_values[i]:\n",
    "                        correct_label = int_to_labels[real_values[i]]\n",
    "                        predicted_label = int_to_labels[predictions[i]]\n",
    "                        analysis_column = \"correct_label:\"+correct_label+\"_predicted_label:\"+predicted_label\n",
    "                        analysis_colums[analysis_column]  = 1\n",
    "                        writer.writerow(analysis_colums)\n",
    "            \n",
    "            \n",
    "#error_analysis(\"test\",predictions,real_values)"
   ]
  },
  {
   "cell_type": "code",
   "execution_count": 42,
   "metadata": {
    "collapsed": true
   },
   "outputs": [],
   "source": [
    "def train(graph,saver,epochs,lstm_layers,lstm_size,fully_connected_layers,fully_connected_size,batch_size,learning_rate,lstm_dropout,fully_connected_dropout):\n",
    "    \n",
    "    log_file = open(\"log_book.csv\",\"a\")\n",
    "    csv_writer = csv.writer(log_file,delimiter = \",\")\n",
    "    \n",
    "    configuration_string = get_configuration_string(lstm_layers,lstm_size,fully_connected_layers,fully_connected_size,batch_size,learning_rate,lstm_dropout,fully_connected_dropout)\n",
    "    print(\"Starting training for: \",configuration_string)\n",
    "    \n",
    "    with tf.Session(graph=graph) as sess:\n",
    "        sess.run(tf.global_variables_initializer())\n",
    "        iteration = 1\n",
    "        for e in range(epochs):\n",
    "            state = sess.run(initial_state)\n",
    "        \n",
    "            \n",
    "            for ii, (x, y) in enumerate(get_batches(train_x, train_y, batch_size), 1):\n",
    "                feed_dict = {inputs_: x,\n",
    "                    labels_: y,\n",
    "                    keep_prob: lstm_dropout,\n",
    "                    fully_connected_keep_prob:fully_connected_dropout,\n",
    "                    initial_state: state,\n",
    "                        learning_rate_ : learning_rate}\n",
    "                loss, state, _ = sess.run([cost, final_state, optimizer], feed_dict=feed_dict)\n",
    "            \n",
    "                if iteration%display_every_iterations ==0:\n",
    "                    val_acc = []\n",
    "                    val_costs = []\n",
    "                \n",
    "                    train_prediction_hardmax = sess.run(predictions_hardmax,feed_dict=feed_dict)\n",
    "                    train_real_hardmax = np.argmax(y,1)\n",
    "                    train_accuracy,train_error,train_precision,train_recall  = calc_classification_metrics(train_prediction_hardmax,train_real_hardmax)\n",
    "                \n",
    "                    val_state = sess.run(cell.zero_state(batch_size, tf.float32))\n",
    "                \n",
    "                    epoch_predictions = np.array([])\n",
    "                    epoch_real_values = np.array([])\n",
    "                    for x, y in get_batches(val_x, val_y, batch_size):\n",
    "                        feed_dict = {inputs_: x,\n",
    "                            labels_: y,\n",
    "                            keep_prob: 1,\n",
    "                            fully_connected_keep_prob:1,\n",
    "                            initial_state: val_state,\n",
    "                            learning_rate_ : learning_rate}\n",
    "                    \n",
    "                        val_prediction = sess.run(predictions,feed_dict=feed_dict)\n",
    "                        val_cost = sess.run(cost,feed_dict=feed_dict)\n",
    "                        val_prediction_hardmax = sess.run(predictions_hardmax,feed_dict=feed_dict)\n",
    "                        val_real_hardmax = np.argmax(y,1)\n",
    "                        val_accuracy,val_error,val_precision,val_recall  = calc_classification_metrics(val_prediction_hardmax,val_real_hardmax)\n",
    "                        val_acc.append(val_accuracy)\n",
    "                        val_costs.append(val_cost)\n",
    "                        epoch_predictions= np.append(epoch_predictions,val_prediction_hardmax,axis = 0)\n",
    "                        epoch_real_values = np.append(epoch_real_values,val_real_hardmax ,axis = 0)\n",
    "                        \n",
    "                    val_cost = np.mean(val_costs)  \n",
    "                    val_acc  = np.mean(val_acc)\n",
    "                    print(\"Epoch: {}/{}\".format(e+1, epochs),\n",
    "                      \"Iteration: {}\".format(iteration),\n",
    "                      \"Train loss: {:.3f}\".format(loss),\n",
    "                      \"Train accuracy: {:.3f}\".format(train_accuracy),\n",
    "                     \"Train error: {:.3f}\".format(train_error),\n",
    "                      \"Val cost: {:.3f}\".format(val_cost),\n",
    "                      \"Val acc: {:.3f}\".format(val_acc)\n",
    "                     )\n",
    "                    \n",
    "                \n",
    "\n",
    "                    \n",
    "                iteration +=1\n",
    "            learning_rate = 0.90 * learning_rate\n",
    "        saver.save(sess, \"checkpoints/{}/checkpoint.ckpt\".format(configuration_string))\n",
    "        \n",
    "        csv_writer.writerow([configuration_string,loss,train_accuracy,train_error,val_cost,val_acc,(1-val_acc)])\n",
    "        log_file.close()\n",
    "        \n",
    "        epoch_predictions = np.array(epoch_predictions)\n",
    "        epoch_real_values = np.array(epoch_real_values)\n",
    "        \n",
    "        error_analysis(configuration_string,epoch_predictions,epoch_real_values)\n",
    "        \n",
    "        print(\"Finished training for: \",configuration_string)"
   ]
  },
  {
   "cell_type": "code",
   "execution_count": 43,
   "metadata": {},
   "outputs": [
    {
     "name": "stdout",
     "output_type": "stream",
     "text": [
      "Starting training for:  lstm_layers=1&lstm_size=256&fully_connected_layers=2&fully_connected_size=15&batch_size=512&learning_rate=0.005&lstm_dropout=1&fully_connected_dropout=1\n",
      "Epoch: 1/3 Iteration: 20 Train loss: 0.877 Train accuracy: 0.619 Train error: 0.381 Val cost: 1.003 Val acc: 0.465\n",
      "Epoch: 1/3 Iteration: 40 Train loss: 0.684 Train accuracy: 0.723 Train error: 0.277 Val cost: 0.911 Val acc: 0.561\n",
      "Epoch: 1/3 Iteration: 60 Train loss: 0.618 Train accuracy: 0.779 Train error: 0.221 Val cost: 0.679 Val acc: 0.753\n",
      "Epoch: 1/3 Iteration: 80 Train loss: 0.488 Train accuracy: 0.838 Train error: 0.162 Val cost: 0.564 Val acc: 0.786\n",
      "Epoch: 1/3 Iteration: 100 Train loss: 0.450 Train accuracy: 0.881 Train error: 0.119 Val cost: 0.450 Val acc: 0.830\n",
      "Epoch: 1/3 Iteration: 120 Train loss: 0.402 Train accuracy: 0.885 Train error: 0.115 Val cost: 0.397 Val acc: 0.849\n",
      "Epoch: 2/3 Iteration: 140 Train loss: 0.312 Train accuracy: 0.914 Train error: 0.086 Val cost: 0.348 Val acc: 0.865\n",
      "Epoch: 2/3 Iteration: 160 Train loss: 0.183 Train accuracy: 0.953 Train error: 0.047 Val cost: 0.310 Val acc: 0.879\n",
      "Epoch: 2/3 Iteration: 180 Train loss: 0.258 Train accuracy: 0.922 Train error: 0.078 Val cost: 0.295 Val acc: 0.891\n",
      "Epoch: 2/3 Iteration: 200 Train loss: 0.146 Train accuracy: 0.967 Train error: 0.033 Val cost: 0.303 Val acc: 0.889\n",
      "Epoch: 2/3 Iteration: 220 Train loss: 0.152 Train accuracy: 0.953 Train error: 0.047 Val cost: 0.267 Val acc: 0.909\n",
      "Epoch: 2/3 Iteration: 240 Train loss: 0.115 Train accuracy: 0.975 Train error: 0.025 Val cost: 0.265 Val acc: 0.909\n",
      "Epoch: 2/3 Iteration: 260 Train loss: 0.082 Train accuracy: 0.975 Train error: 0.025 Val cost: 0.241 Val acc: 0.926\n",
      "Epoch: 3/3 Iteration: 280 Train loss: 0.084 Train accuracy: 0.975 Train error: 0.025 Val cost: 0.234 Val acc: 0.925\n",
      "Epoch: 3/3 Iteration: 300 Train loss: 0.058 Train accuracy: 0.986 Train error: 0.014 Val cost: 0.215 Val acc: 0.933\n",
      "Epoch: 3/3 Iteration: 320 Train loss: 0.052 Train accuracy: 0.990 Train error: 0.010 Val cost: 0.225 Val acc: 0.927\n",
      "Epoch: 3/3 Iteration: 340 Train loss: 0.041 Train accuracy: 0.990 Train error: 0.010 Val cost: 0.283 Val acc: 0.916\n",
      "Epoch: 3/3 Iteration: 360 Train loss: 0.060 Train accuracy: 0.984 Train error: 0.016 Val cost: 0.236 Val acc: 0.933\n",
      "Epoch: 3/3 Iteration: 380 Train loss: 0.034 Train accuracy: 0.990 Train error: 0.010 Val cost: 0.257 Val acc: 0.934\n",
      "Epoch: 3/3 Iteration: 400 Train loss: 0.037 Train accuracy: 0.988 Train error: 0.012 Val cost: 0.229 Val acc: 0.935\n",
      "Finished training for:  lstm_layers=1&lstm_size=256&fully_connected_layers=2&fully_connected_size=15&batch_size=512&learning_rate=0.005&lstm_dropout=1&fully_connected_dropout=1\n"
     ]
    }
   ],
   "source": [
    "# original run with original parameters for 10 epochs\n",
    "\n",
    "dropout_lstm = 1\n",
    "dropout_fully_connected = 1\n",
    "\n",
    "with graph.as_default():\n",
    "    saver = tf.train.Saver()\n",
    "    \n",
    "train(graph,saver,3,lstm_layers,lstm_size,fully_connected_layers,fully_connected_size,batch_size,learning_rate,dropout_lstm,dropout_fully_connected)"
   ]
  },
  {
   "cell_type": "markdown",
   "metadata": {},
   "source": [
    "best results to moment, were after adding 2 mary shelley stories to corpus(before mathilda) and before adding additional lovecraft and poe"
   ]
  },
  {
   "cell_type": "code",
   "execution_count": 44,
   "metadata": {},
   "outputs": [
    {
     "name": "stdout",
     "output_type": "stream",
     "text": [
      "\n",
      "--------------------------------------------------------------------------------------------\n",
      "\n",
      "--------------------------------------------------------------------------------------------\n",
      "\n",
      "--------------------------------------------------------------------------------------------\n",
      "\n",
      "--------------------------------------------------------------------------------------------\n",
      "\n",
      "--------------------------------------------------------------------------------------------\n",
      "\n",
      "--------------------------------------------------------------------------------------------\n",
      "\n",
      "--------------------------------------------------------------------------------------------\n",
      "\n",
      "--------------------------------------------------------------------------------------------\n",
      "\n",
      "--------------------------------------------------------------------------------------------\n",
      "\n",
      "--------------------------------------------------------------------------------------------\n",
      "\n",
      "--------------------------------------------------------------------------------------------\n",
      "\n",
      "--------------------------------------------------------------------------------------------\n",
      "\n",
      "--------------------------------------------------------------------------------------------\n",
      "\n",
      "--------------------------------------------------------------------------------------------\n",
      "\n",
      "--------------------------------------------------------------------------------------------\n"
     ]
    }
   ],
   "source": [
    "with graph.as_default():\n",
    "    saver = tf.train.Saver()\n",
    "\n",
    "# THE FOLLOWING LINES WERE USED TO WRITE THE HEADER TO THE LOG BOOK, ARE NECCESARY ONLY IF LOG BOOK ITS EMPTIED    \n",
    "#log_file = open(\"log_book.csv\",\"a\")\n",
    "#csv_writer = csv.writer(log_file,delimiter = \",\")\n",
    "#header = [\"config_string\",\"train_loss\",\"train_accuracy\",\"train_error\",\"validation_loss\",\"validation_accuracy\",\"validation_error\"]\n",
    "#csv_writer.writerow(header)\n",
    "#log_file.close()\n",
    "\n",
    "\n",
    "for i in range(15):\n",
    "    lstm_dropout = random.random()\n",
    "    fully_connected_dropout = random.random()\n",
    "    \n",
    "    #train(graph,saver,5,lstm_layers,lstm_size,fully_connected_layers,fully_connected_size,batch_size,learning_rate,lstm_dropout,fully_connected_dropout)\n",
    "    print(\"\")\n",
    "    print(\"--------------------------------------------------------------------------------------------\")"
   ]
  },
  {
   "cell_type": "markdown",
   "metadata": {},
   "source": [
    "## Testing"
   ]
  },
  {
   "cell_type": "code",
   "execution_count": 45,
   "metadata": {},
   "outputs": [
    {
     "name": "stdout",
     "output_type": "stream",
     "text": [
      "INFO:tensorflow:Restoring parameters from checkpoints/lstm_layers=1&lstm_size=256&fully_connected_layers=2&fully_connected_size=15&batch_size=512&learning_rate=0.005&lstm_dropout=1&fully_connected_dropout=1/checkpoint.ckpt\n",
      "(512, 100) (512, 3)\n",
      "test cost 0.294625 0.921875\n",
      "(512, 100) (512, 3)\n",
      "test cost 0.295192 0.91015625\n",
      "(512, 100) (512, 3)\n",
      "test cost 0.266869 0.9375\n",
      "Test accuracy: 0.923 Test cost: 0.286\n"
     ]
    }
   ],
   "source": [
    "test_acc = []\n",
    "test_costs = []\n",
    "with tf.Session(graph=graph) as sess:\n",
    "    saver.restore(sess, tf.train.latest_checkpoint('checkpoints/lstm_layers=1&lstm_size=256&fully_connected_layers=2&fully_connected_size=15&batch_size=512&learning_rate=0.005&lstm_dropout=1&fully_connected_dropout=1'))\n",
    "    test_state = sess.run(cell.zero_state(batch_size, tf.float32))\n",
    "    for ii, (x, y) in enumerate(get_batches(test_x, test_y, batch_size), 1):\n",
    "        print(x.shape,y.shape)\n",
    "        feed_dict = {inputs_: x,\n",
    "                labels_: y,\n",
    "                keep_prob: 1,\n",
    "                fully_connected_keep_prob:1,\n",
    "                initial_state: test_state,\n",
    "                        learning_rate_ : learning_rate}\n",
    "        \n",
    "        test_prediction = sess.run(predictions,feed_dict=feed_dict)\n",
    "        test_cost = sess.run(cost,feed_dict=feed_dict)\n",
    "        test_prediction_hardmax = sess.run(predictions_hardmax,feed_dict=feed_dict)\n",
    "        test_real_hardmax = np.argmax(y,1)\n",
    "        test_accuracy,test_error,test_precision,test_recall  = calc_classification_metrics(test_prediction_hardmax,test_real_hardmax)\n",
    "        test_costs.append(test_cost)\n",
    "        test_acc.append(test_accuracy)\n",
    "        print(\"test cost\",test_cost , test_accuracy )\n",
    "        #batch_acc, test_state = sess.run([accuracy, final_state], feed_dict=feed)\n",
    "        #test_acc.append(batch_acc)\n",
    "        #print(x.shape,y.shape)\n",
    "    print(\"Test accuracy: {:.3f}\".format(np.mean(test_acc) ),\n",
    "         \"Test cost: {:.3f}\".format(np.mean(test_costs)))"
   ]
  },
  {
   "cell_type": "markdown",
   "metadata": {},
   "source": [
    "## Generate submission file"
   ]
  },
  {
   "cell_type": "code",
   "execution_count": 46,
   "metadata": {},
   "outputs": [
    {
     "name": "stdout",
     "output_type": "stream",
     "text": [
      "INFO:tensorflow:Restoring parameters from checkpoints/lstm_layers=1&lstm_size=256&fully_connected_layers=2&fully_connected_size=15&batch_size=512&learning_rate=0.005&lstm_dropout=1&fully_connected_dropout=1/checkpoint.ckpt\n",
      "finished batch 0\n",
      "finished batch 1\n",
      "finished batch 2\n",
      "finished batch 3\n",
      "finished batch 4\n",
      "finished batch 5\n",
      "finished batch 6\n",
      "finished batch 7\n",
      "finished batch 8\n",
      "finished batch 9\n",
      "finished batch 10\n",
      "finished batch 11\n",
      "finished batch 12\n",
      "finished batch 13\n",
      "finished batch 14\n",
      "finished batch 15\n",
      "Last minibatch 8192 , 8392\n",
      "finished batch 16\n"
     ]
    }
   ],
   "source": [
    "with tf.Session(graph=graph) as sess:\n",
    "    saver.restore(sess, tf.train.latest_checkpoint('checkpoints/lstm_layers=1&lstm_size=256&fully_connected_layers=2&fully_connected_size=15&batch_size=512&learning_rate=0.005&lstm_dropout=1&fully_connected_dropout=1'))\n",
    "    test_state = sess.run(cell.zero_state(batch_size, tf.float32))\n",
    "    \n",
    "    full_batches =  int(test_features.shape[0]/batch_size)\n",
    "    submit_file = open(\"submission.csv\",\"w\")\n",
    "    submit_hard_file = open(\"submission_hard.csv\",\"w\")\n",
    "    \n",
    "    csv_writer = csv.writer(submit_file,delimiter = \",\")\n",
    "    csv_hard_writer = csv.writer(submit_hard_file,delimiter=\",\")\n",
    "    header = [\"id\",\"EAP\",\"HPL\",\"MWS\"]\n",
    "    csv_writer.writerow(header)\n",
    "    csv_hard_writer.writerow(header)\n",
    "    \n",
    "    # TODO: find a way to send 1 line at a time without having to take special care of last incomplete batch\n",
    "    for i in range(full_batches):\n",
    "        batch = test_features[ (i*batch_size):((i+1)*batch_size)]\n",
    "\n",
    "        feed_dict = {inputs_: batch,\n",
    "                keep_prob: 1,\n",
    "                fully_connected_keep_prob:1,\n",
    "                initial_state: test_state,\n",
    "                        learning_rate_ : learning_rate}\n",
    "    \n",
    "        test_prediction = sess.run(predictions,feed_dict=feed_dict)\n",
    "        test_prediction_hardmax = np.argmax(test_prediction,1)\n",
    "    \n",
    "        for j,prediction in enumerate(test_prediction_hardmax):\n",
    "            EAP_prob = test_prediction[j,labels_to_int[\"EAP\"]]\n",
    "            HPL_prob = test_prediction[j,labels_to_int[\"HPL\"]]\n",
    "            MWS_prob = test_prediction[j,labels_to_int[\"MWS\"]]\n",
    "            EAP_hard = int(test_prediction_hardmax[j] == labels_to_int[\"EAP\"])\n",
    "            HPL_hard = int(test_prediction_hardmax[j] == labels_to_int[\"HPL\"])\n",
    "            MWS_hard = int(test_prediction_hardmax[j] == labels_to_int[\"MWS\"])\n",
    "        \n",
    "            line = [test_ids[(i*batch_size + j)] , EAP_prob, HPL_prob, MWS_prob]\n",
    "            hard_max_line = [test_ids[(i*batch_size + j)] , EAP_hard, HPL_hard, MWS_hard]\n",
    "            \n",
    "            csv_writer.writerow(line)\n",
    "            csv_hard_writer.writerow(hard_max_line)\n",
    "        \n",
    "        print(\"finished batch {}\".format(i))\n",
    "            #print(\"Finished writing {}\".format(i))\n",
    "            #print(test_ids[i] ,test[i][:50] , \" \", int_to_labels[test_prediction_hardmax] , EAP_prob, HPL_prob, MWS_prob)\n",
    "       \n",
    "    if test_features.shape[0]%batch_size != 0:\n",
    "        print(\"Last minibatch\" ,full_batches*batch_size,\",\", test_features.shape[0])\n",
    "        \n",
    "        i+=1\n",
    "        batch = np.zeros((batch_size,test_features.shape[1]))\n",
    "        batch[0:(test_features.shape[0]-full_batches*batch_size),:] = test_features[full_batches*batch_size:,:]\n",
    "        \n",
    "        feed_dict = {inputs_: batch,\n",
    "                keep_prob: 1,\n",
    "                fully_connected_keep_prob:1,\n",
    "                initial_state: test_state,\n",
    "                        learning_rate_ : learning_rate}\n",
    "    \n",
    "        test_prediction = sess.run(predictions,feed_dict=feed_dict)\n",
    "        test_prediction_hardmax = np.argmax(test_prediction,1)\n",
    "\n",
    "        for j in range(test_features.shape[0]-full_batches*batch_size):\n",
    "            EAP_prob = test_prediction[j,labels_to_int[\"EAP\"]]\n",
    "            HPL_prob = test_prediction[j,labels_to_int[\"HPL\"]]\n",
    "            MWS_prob = test_prediction[j,labels_to_int[\"MWS\"]]\n",
    "            EAP_hard = int(test_prediction_hardmax[j] == labels_to_int[\"EAP\"])\n",
    "            HPL_hard = int(test_prediction_hardmax[j] == labels_to_int[\"HPL\"])\n",
    "            MWS_hard = int(test_prediction_hardmax[j] == labels_to_int[\"MWS\"])\n",
    "        \n",
    "            line = [test_ids[(i*batch_size + j)] , EAP_prob, HPL_prob, MWS_prob]\n",
    "            hard_max_line = [test_ids[(i*batch_size + j)] , EAP_hard, HPL_hard, MWS_hard]\n",
    "        \n",
    "            csv_writer.writerow(line)\n",
    "            csv_hard_writer.writerow(hard_max_line)\n",
    "        \n",
    "        print(\"finished batch {}\".format(i))\n",
    "\n",
    "    submit_file.close()"
   ]
  },
  {
   "cell_type": "code",
   "execution_count": null,
   "metadata": {
    "collapsed": true
   },
   "outputs": [],
   "source": []
  },
  {
   "cell_type": "raw",
   "metadata": {},
   "source": []
  }
 ],
 "metadata": {
  "kernelspec": {
   "display_name": "Python 3",
   "language": "python",
   "name": "python3"
  },
  "language_info": {
   "codemirror_mode": {
    "name": "ipython",
    "version": 3
   },
   "file_extension": ".py",
   "mimetype": "text/x-python",
   "name": "python",
   "nbconvert_exporter": "python",
   "pygments_lexer": "ipython3",
   "version": "3.6.3"
  }
 },
 "nbformat": 4,
 "nbformat_minor": 2
}
